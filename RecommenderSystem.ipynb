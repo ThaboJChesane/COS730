{
 "cells": [
  {
   "cell_type": "code",
   "execution_count": 23,
   "metadata": {},
   "outputs": [
    {
     "name": "stdout",
     "output_type": "stream",
     "text": [
      "./RecommenderSystem.ipynb\n",
      "./.git/config\n",
      "./.git/HEAD\n",
      "./.git/description\n",
      "./.git/index\n",
      "./.git/packed-refs\n",
      "./.git/COMMIT_EDITMSG\n",
      "./.git/FETCH_HEAD\n",
      "./.git/objects/04/dddb75984d0187623acd34c617572da8796ab8\n",
      "./.git/objects/ae/3c19dc95c27ab36fce9fb4bf0c9abd71a1c603\n",
      "./.git/objects/f4/b9e637e8e0cfe5d90115dc14e95b1c0d226fb3\n",
      "./.git/objects/e3/a6820dcb30d433634a81b1f1a9284a2292afe7\n",
      "./.git/objects/c6/b7831384361daec0972507ef5f38c9bb18223c\n",
      "./.git/objects/pack/pack-ec4e5e329ba013a02c0664c02a9f89cadf33ad57.pack\n",
      "./.git/objects/pack/pack-ec4e5e329ba013a02c0664c02a9f89cadf33ad57.idx\n",
      "./.git/objects/2a/23ce30bbb55de031e1b33a5bb1d93a0ecd7d80\n",
      "./.git/objects/9a/0f6f5432f2f9d8564c3559fa2fe71f5663e1b1\n",
      "./.git/objects/3f/5f0b61c3d037ec3f02a74f24017c7b038eb0dc\n",
      "./.git/objects/d5/07e9338fa83ce86d1a438914a8f0a8f98dddc7\n",
      "./.git/info/exclude\n",
      "./.git/logs/HEAD\n",
      "./.git/logs/refs/heads/RecommenderModel\n",
      "./.git/logs/refs/heads/main\n",
      "./.git/logs/refs/remotes/origin/HEAD\n",
      "./.git/logs/refs/remotes/origin/RecommenderModel\n",
      "./.git/hooks/commit-msg.sample\n",
      "./.git/hooks/pre-rebase.sample\n",
      "./.git/hooks/pre-commit.sample\n",
      "./.git/hooks/applypatch-msg.sample\n",
      "./.git/hooks/fsmonitor-watchman.sample\n",
      "./.git/hooks/pre-receive.sample\n",
      "./.git/hooks/prepare-commit-msg.sample\n",
      "./.git/hooks/post-update.sample\n",
      "./.git/hooks/pre-merge-commit.sample\n",
      "./.git/hooks/pre-applypatch.sample\n",
      "./.git/hooks/pre-push.sample\n",
      "./.git/hooks/update.sample\n",
      "./.git/hooks/push-to-checkout.sample\n",
      "./.git/refs/heads/RecommenderModel\n",
      "./.git/refs/heads/main\n",
      "./.git/refs/remotes/origin/HEAD\n",
      "./.git/refs/remotes/origin/RecommenderModel\n"
     ]
    }
   ],
   "source": [
    "import numpy as np\n",
    "import pandas as pd\n",
    "\n",
    "import os\n",
    "for dirname, _, filenames in os.walk('.'):\n",
    "    for filename in filenames:\n",
    "        print(os.path.join(dirname, filename))\n",
    "\n",
    "\n",
    "from sklearn.metrics.pairwise import cosine_similarity"
   ]
  },
  {
   "cell_type": "markdown",
   "metadata": {},
   "source": [
    "# Load Data"
   ]
  },
  {
   "cell_type": "code",
   "execution_count": 24,
   "metadata": {},
   "outputs": [],
   "source": [
    "books = pd.read_csv('/Users/thabochesane/Desktop/path2/books_data.csv')\n",
    "reviews = pd.read_csv('/Users/thabochesane/Desktop/path2/Books_rating.csv')\n",
    "\n",
    "\n",
    "\n"
   ]
  },
  {
   "cell_type": "code",
   "execution_count": null,
   "metadata": {},
   "outputs": [],
   "source": [
    "books.shape, reviews.shape"
   ]
  },
  {
   "cell_type": "markdown",
   "metadata": {},
   "source": [
    "# Filtering"
   ]
  },
  {
   "cell_type": "code",
   "execution_count": null,
   "metadata": {},
   "outputs": [],
   "source": [
    "reviews = reviews[['Id','User_id','review/score','Title']]"
   ]
  },
  {
   "cell_type": "code",
   "execution_count": null,
   "metadata": {},
   "outputs": [],
   "source": [
    "reviews.rename(columns={'Id' : 'BookId', 'User_id' : 'UserId', 'review/score' : 'Review' , 'Title' : 'BookTitle' }, inplace= True)"
   ]
  },
  {
   "cell_type": "code",
   "execution_count": null,
   "metadata": {},
   "outputs": [],
   "source": [
    "reviews.head(100)"
   ]
  },
  {
   "cell_type": "markdown",
   "metadata": {},
   "source": [
    "# Get number of reviews per book"
   ]
  },
  {
   "cell_type": "code",
   "execution_count": null,
   "metadata": {},
   "outputs": [],
   "source": [
    "numberofReviews = reviews.groupby('BookTitle').count()['Review'].reset_index()\n",
    "numberofReviews.rename(columns={'Reviews' : 'NumberOfReviews'}, inplace= True)"
   ]
  },
  {
   "cell_type": "code",
   "execution_count": null,
   "metadata": {},
   "outputs": [],
   "source": [
    "numberofReviews.head()"
   ]
  },
  {
   "cell_type": "markdown",
   "metadata": {},
   "source": [
    "# Filter the users and books."
   ]
  },
  {
   "cell_type": "code",
   "execution_count": null,
   "metadata": {},
   "outputs": [],
   "source": [
    "userId = reviews.groupby('UserId').count()['Review'] > 200 \n",
    "activeUsers = userId[userId].index\n",
    "cleanedReviews = reviews[reviews['UserId'].isin(activeUsers)]\n",
    "cleanedReviews"
   ]
  },
  {
   "cell_type": "code",
   "execution_count": null,
   "metadata": {},
   "outputs": [],
   "source": [
    "x = cleanedReviews.groupby('BookTitle').count()['Review'] >= 50\n",
    "popularBooks = x[x].index\n",
    "\n",
    "reviewsDataFrame = cleanedReviews[cleanedReviews['BookTitle'].isin(popularBooks)]\n",
    "reviewsDataFrame"
   ]
  },
  {
   "cell_type": "code",
   "execution_count": null,
   "metadata": {},
   "outputs": [],
   "source": [
    "reviewsDataFrame.to_csv('/Users/thabochesane/Desktop/path2/reviews.csv')"
   ]
  },
  {
   "cell_type": "code",
   "execution_count": null,
   "metadata": {},
   "outputs": [],
   "source": [
    "reviewsDataFrame.head()"
   ]
  },
  {
   "cell_type": "markdown",
   "metadata": {},
   "source": [
    "# Check for Null values"
   ]
  },
  {
   "cell_type": "code",
   "execution_count": null,
   "metadata": {},
   "outputs": [],
   "source": [
    "nullColumns = reviewsDataFrame.isnull().any()\n",
    "print(nullColumns)"
   ]
  },
  {
   "cell_type": "markdown",
   "metadata": {},
   "source": [
    "# Check for Not a number (NaN) values"
   ]
  },
  {
   "cell_type": "code",
   "execution_count": null,
   "metadata": {},
   "outputs": [],
   "source": [
    "x = reviewsDataFrame.pivot_table(index='UserId', columns='BookTitle', values= 'Review')\n",
    "x"
   ]
  },
  {
   "cell_type": "code",
   "execution_count": null,
   "metadata": {},
   "outputs": [],
   "source": [
    "nan_counts = x.isna().sum()\n",
    "print(nan_counts)"
   ]
  },
  {
   "cell_type": "code",
   "execution_count": null,
   "metadata": {},
   "outputs": [],
   "source": [
    "x.fillna(0, inplace=True)\n",
    "x"
   ]
  },
  {
   "cell_type": "markdown",
   "metadata": {},
   "source": [
    "# simlarity analysis"
   ]
  },
  {
   "cell_type": "code",
   "execution_count": null,
   "metadata": {},
   "outputs": [],
   "source": []
  }
 ],
 "metadata": {
  "kernelspec": {
   "display_name": "Python 3",
   "language": "python",
   "name": "python3"
  },
  "language_info": {
   "codemirror_mode": {
    "name": "ipython",
    "version": 3
   },
   "file_extension": ".py",
   "mimetype": "text/x-python",
   "name": "python",
   "nbconvert_exporter": "python",
   "pygments_lexer": "ipython3",
   "version": "3.11.4"
  }
 },
 "nbformat": 4,
 "nbformat_minor": 2
}
